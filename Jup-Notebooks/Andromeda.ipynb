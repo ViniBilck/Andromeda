{
 "cells": [
  {
   "cell_type": "code",
   "execution_count": 36,
   "metadata": {},
   "outputs": [
    {
     "name": "stdout",
     "output_type": "stream",
     "text": [
      "Número: \n",
      "349\n",
      "O número 349 é primo\n"
     ]
    }
   ],
   "source": [
    "import numpy as np\n",
    "\n",
    "## Declaração\n",
    "Num = []\n",
    "Teste = []\n",
    "i=2\n",
    "M=int(input(\"Número: \\n\"))\n",
    "\n",
    "## Verificação de números Primos \n",
    "\n",
    "while (M>i):\n",
    "    if M%i == 0:\n",
    "        Teste.append(1)\n",
    "        i+=1\n",
    "    else:\n",
    "        i+=1\n",
    "        \n",
    "if len(Teste) == 0:\n",
    "    print(\"O número \"+str(M)+\" é primo\")\n",
    "else:\n",
    "    print(\"O número \"+str(M)+\" não é primo\")\n",
    "    \n",
    "##Para números grandes, um vetor grande será gerado, então posso acabar ajustar o código para que na \n",
    "##primeira entrada de uma divisão com resto 0 inválidar. \n"
   ]
  },
  {
   "cell_type": "code",
   "execution_count": null,
   "metadata": {},
   "outputs": [],
   "source": []
  }
 ],
 "metadata": {
  "kernelspec": {
   "display_name": "Python 3",
   "language": "python",
   "name": "python3"
  }
 },
 "nbformat": 4,
 "nbformat_minor": 4
}
